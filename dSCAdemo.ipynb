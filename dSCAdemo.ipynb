{
 "cells": [
  {
   "cell_type": "markdown",
   "id": "incorporate-provision",
   "metadata": {},
   "source": [
    "# demixed Sparse Component Analysis"
   ]
  },
  {
   "cell_type": "code",
   "execution_count": 1,
   "id": "nervous-inside",
   "metadata": {},
   "outputs": [],
   "source": [
    "\n",
    "\n",
    "import dill\n",
    "from matplotlib import pyplot as plt\n",
    "import numpy as np\n",
    "import os"
   ]
  },
  {
   "cell_type": "code",
   "execution_count": 2,
   "id": "bizarre-hierarchy",
   "metadata": {},
   "outputs": [],
   "source": [
    "import matplotlib as mpl\n",
    "mpl.rcParams['pdf.fonttype'] = 42\n",
    "mpl.rcParams['ps.fonttype'] = 42\n",
    "mpl.rcParams['font.size'] = 9\n",
    "mpl.rcParams['lines.linewidth'] = 1\n",
    "mpl.rcParams['savefig.transparent']=True\n",
    "mpl.rcParams['font.family'] = 'sans-serif'\n",
    "mpl.rcParams['font.sans-serif'] = ['Arial']\n",
    "mpl.rcParams['savefig.bbox']='tight'"
   ]
  },
  {
   "cell_type": "code",
   "execution_count": 3,
   "id": "jewish-mortgage",
   "metadata": {},
   "outputs": [],
   "source": [
    "kurtosis_centered=lambda x: ((x**4).sum()/x.size)/((x**2).sum()/x.size)**2"
   ]
  },
  {
   "cell_type": "code",
   "execution_count": 4,
   "id": "005e5ee8-e8da-4f8b-9b77-e7af01a231a1",
   "metadata": {},
   "outputs": [],
   "source": [
    "names=['Sample','Memory1','Distractor','Memory2','Test'];\n",
    "names=np.array(names)\n",
    "def DrawLines(kk=[0.51809945, 1.03684093, 2.05390537, 2.57065977, 3.59486604 ,4.5],\n",
    "              scale=4.5,oscale=0,linetype='--w',adjustment=0,axis=['x','y'],\n",
    "              discrete=False,epochs=np.arange(5),colors=np.array(['C0','k','C3','k','gray']),\n",
    "              names=['S','M1','D','M2','Test'],rotationx=0,rotationy=0,lw=1,shade=[0,2,4],fontsize=None):\n",
    "    if not fontsize:\n",
    "        fontsize=int(round(mpl.rcParams['font.size']*3/4))\n",
    "    scale=plt.gca().get_ylim()[1]*0.95\n",
    "    kk=np.array(kk);\n",
    "    if discrete:\n",
    "        kk*=10;\n",
    "    kkc=(kk[1:]+kk[:-1])/2;\n",
    "    epochs=np.array(epochs)\n",
    "    names=np.array(names)\n",
    "    bgcolors=np.array(['none',None,'none','none','none'])#np.array(['C0',None,'C3','none','k'])\n",
    "\n",
    "    ylim=plt.gca().get_ylim()\n",
    "    ylen=0.03*(ylim[1]-ylim[0])\n",
    "    xlim=plt.gca().get_xlim()\n",
    "    xlen=0.03*(xlim[1]-xlim[0])\n",
    "    borders=list(set(np.concatenate((epochs[:-1],epochs[:-1]+1))))\n",
    "    if lw>0:\n",
    "        for x in kk[borders]:\n",
    "            if 'y' in axis: plt.plot([xlim[0]+xlen,xlim[1]-xlen],[x+adjustment,x+adjustment],linetype,lw=lw);\n",
    "            if 'x' in axis: plt.plot([x+adjustment,x+adjustment],[ylim[0]+ylen,ylim[1]-ylen],linetype,lw=lw);\n",
    "    shadecolor=['C0','gray','C3','gray','k']\n",
    "    if shade:\n",
    "        for x in shade:\n",
    "            plt.fill_betweenx(ylim,[kk[x]]*2,[kk[x+1]]*2,facecolor=shadecolor[1],edgecolor=None,alpha=0.15)\n",
    "    \n",
    "    \n",
    "    if 'x' in axis: \n",
    "        plt.xticks(kkc[epochs],names[epochs],rotation=rotationx,fontsize=fontsize)#('sample','delay1','distractor','delay2','test')\n",
    "        for ticklabel, tickcolor , bgcolor in zip(plt.gca().get_xticklabels(), colors[epochs],bgcolors[epochs]):\n",
    "            ticklabel.set_color(tickcolor)\n",
    "            if bgcolor==None: continue;\n",
    "            ticklabel.set_bbox(dict(boxstyle='square, pad=0.001',edgecolor='none'))\n",
    "            #print(ticklabel.get_bbox_patch())\n",
    "            ticklabel.set_backgroundcolor(bgcolor)\n",
    "        plt.tick_params(bottom=False)\n",
    "    if 'y' in axis: \n",
    "        plt.yticks(kkc[epochs],names[epochs],rotation=rotationy,fontsize=fontsize)#('sample','delay1','distractor','delay2','test'))\n",
    "        for ticklabel, tickcolor , bgcolor in zip(plt.gca().get_yticklabels(), colors[epochs],bgcolors[epochs]):\n",
    "            ticklabel.set_color(tickcolor)\n",
    "            if bgcolor==None: continue;\n",
    "            ticklabel.set_bbox(dict(boxstyle='square, pad=0.001',edgecolor='none'))\n",
    "            ticklabel.set_backgroundcolor(bgcolor)\n",
    "        plt.tick_params(left=False)\n",
    "            \n",
    "    \n",
    "    #plt.xlabel('Testing time point')\n",
    "    #plt.ylabel('Training time point')\n",
    "    #\n",
    "    print(kk)\n",
    "    return()"
   ]
  },
  {
   "cell_type": "code",
   "execution_count": 13,
   "id": "981f9f83-d720-41ba-998e-1f65da8adf98",
   "metadata": {},
   "outputs": [],
   "source": [
    "\n",
    "\n",
    "cmap = mpl.cm.get_cmap('Blues')\n",
    "\n",
    "cmapS=cmap(np.arange(0.35,1,0.2))\n",
    "\n",
    "cmap = mpl.cm.get_cmap('Reds')\n",
    "\n",
    "cmapD=cmap(np.arange(0.35,1,0.2))"
   ]
  },
  {
   "cell_type": "code",
   "execution_count": 14,
   "id": "5d8b32fc-6cd2-4fcc-a814-72c80cb1e2cc",
   "metadata": {},
   "outputs": [],
   "source": [
    "\n",
    "\n",
    "\n",
    "    \n",
    "\n",
    "def print_sig_ax(ax,Ui,cmapX=cmapS,stim='Sample'):\n",
    "\n",
    "        \n",
    "    n_timepoints=45\n",
    "    #timepoints=np.linspace(0,5.5,n_timepoints)\n",
    "    timepoints=np.linspace(0.,4.5,n_timepoints)\n",
    "    sig=Ui.reshape(4,n_timepoints)\n",
    "    lines=[]\n",
    "    for j in range(4):\n",
    "        lines.append(ax.plot(timepoints,sig[j,:],color=cmapX[j],label='%d'%(j+1))[0])\n",
    "    #if i==0:\n",
    "    #    ax.legend(lines,['%d'%(j+1) for j in range(4)],title=stim+' no.',loc='upper left',bbox_to_anchor=[0.7,0.5])\n",
    "    ylims=ax.get_ylim()\n",
    "    ax.set_ylim(ylims[0]-0.8*(ylims[1]-ylims[0]),ylims[1])\n",
    "    if i==0:\n",
    "        tmpposes=np.linspace(*ylims,4)\n",
    "        for j in range(4):\n",
    "            ax.text(4.55,tmpposes[3-j],'%d'%(j+1),color=cmapX[j])\n",
    "    \n",
    "    tmpax=ax.twinx()\n",
    "    tmpax.fill_between(timepoints,sig.std(0),color=cmapX[-1],zorder=-2)\n",
    "    ylims=tmpax.get_ylim()\n",
    "    tmpax.set_ylim(ylims[0],ylims[1]+1.25*(ylims[1]-ylims[0]))\n",
    "    tmpax.set_yticks([])\n",
    "    if i==1:\n",
    "        tmpax.set_ylabel(stim+' info                   ',color=cmapX[-1])\n",
    "    plt.sca(ax)\n",
    "    #DrawLines(axis=['x'],linetype='--k',lw=0)\n",
    "    for side in ['top','right','left']:\n",
    "        ax.spines[side].set_visible(False)\n",
    "        tmpax.spines[side].set_visible(False)\n",
    "    ax.set_yticks([],[])\n",
    "    tmpax.set_ylabel('s.d.',color='k')#color=cmapX[-1])\n",
    "    tmpax.yaxis.set_label_coords(-0.1,0.2)\n",
    "    #ax[i,0].set_ylabel(DPFC_comp_names[i],fontsize=24)\n",
    "    ax.set_zorder(1)  # default zorder is 0 for ax1 and ax2\n",
    "    ax.patch.set_visible(False)\n",
    "    DrawLines(axis=['x'],lw=0)\n",
    "    ax.tick_params(axis='x', pad=-2)\n",
    "    for side in ['top','right','left']:\n",
    "        ax.spines[side].set_visible(False)\n",
    "        tmpax.spines[side].set_visible(False)\n",
    "    #ax[i,0].tick_params(axis='x', which='major', pad=15)\n",
    "    ax.tick_params(width=10)\n",
    "    ax.set_yticks([],[])\n",
    "    ax.set_ylabel('Activity')\n",
    "    ax.yaxis.set_label_coords(-0.,0.75)\n",
    "    ax.set_title('SC%d  '%(i+1))#+PFC_comp_names_new[i])#,fontsize=24)\n",
    "    ax.set_zorder(1)  # default zorder is 0 for ax1 and ax2\n",
    "    ax.patch.set_visible(False)\n",
    "#ax[0,0].set_title(r'data SC response',color='C9')#$\\vec{u}_i$')\n",
    "    ax.set_zorder(1)  # default zorder is 0 for ax1 and ax2\n",
    "    ax.patch.set_visible(False)\n",
    "    DrawLines(axis=['x'],lw=0)\n",
    "    return(f,ax)"
   ]
  },
  {
   "cell_type": "markdown",
   "id": "harmful-professor",
   "metadata": {},
   "source": [
    "## demixing"
   ]
  },
  {
   "cell_type": "markdown",
   "id": "equivalent-hebrew",
   "metadata": {},
   "source": [
    "the data should be organized into the shape of (profile,neuron) to feed into SCA"
   ]
  },
  {
   "cell_type": "markdown",
   "id": "recreational-bulgarian",
   "metadata": {},
   "source": [
    "below is an example function of demixing data of shape (neuron,Stim1,Stim2,Time) and transform it to shape (profile,neuron)"
   ]
  },
  {
   "cell_type": "code",
   "execution_count": 5,
   "id": "streaming-negative",
   "metadata": {},
   "outputs": [],
   "source": [
    "def get_XnXT(MF,stim_shape=(4,4),stim_keep=0):\n",
    "    #MF, the original data, takes shape (neuron,Stim1,Stim2,...,Stim_n,Time) or (n_neuron,n_profile), n_profile=Stim1*Stim2*...*Time\n",
    "    #\n",
    "    #stim_shape should be defined according to how many values there is for each stimulus\n",
    "    #\n",
    "    #stim_keep means which stimulus dimension to keep\n",
    "    #The result is the neural data contributed by the kept stimulus and its interaction with Time\n",
    "    tensor=MF.reshape((MF.shape[0],*stim_shape,-1)).copy()\n",
    "    tensor-=tensor.reshape((MF.shape[0],-1)).mean(1).reshape((MF.shape[0],*([1]*(len(stim_shape)+1))))\n",
    "    XT=tensor.copy();\n",
    "    for i in range(len(stim_shape),0,-1):\n",
    "        if i-1==stim_keep: continue;\n",
    "        XT=XT.mean(i);\n",
    "    T=XT.mean(1)\n",
    "    return((XT-T[:,None,:]).reshape((MF.shape[0],-1)).T)"
   ]
  },
  {
   "cell_type": "code",
   "execution_count": 6,
   "id": "molecular-senior",
   "metadata": {},
   "outputs": [],
   "source": [
    "def get_X1X2T(MF,stim_shape=(4,4)):\n",
    "    # this is an example of getting the interaction between two stimuli and its interaction with time\n",
    "    # this currently is not generalizable to more than 2 stimulus dimensions\n",
    "    MF-=MF.reshape((MF.shape[0],-1)).mean(1)[:,None,None]\n",
    "    nneuron=MF.shape[0]\n",
    "    Xtensor=MF.reshape((MF.shape[0],*stim_shape,-1))\n",
    "    \n",
    "    Xt=Xtensor.mean(1,keepdims=True).mean(2,keepdims=True)\n",
    "    Xs=Xtensor.mean(2,keepdims=True).mean(3,keepdims=True)\n",
    "    Xd=Xtensor.mean(1,keepdims=True).mean(3,keepdims=True)\n",
    "    Xst=Xtensor.mean(2,keepdims=True)-Xs-Xt\n",
    "    Xdt=Xtensor.mean(1,keepdims=True)-Xd-Xt\n",
    "    \n",
    "    return((Xtensor-Xt-Xs-Xd-Xst-Xdt).reshape((nneuron,-1)).T)"
   ]
  },
  {
   "cell_type": "markdown",
   "id": "jewish-christmas",
   "metadata": {},
   "source": [
    "import demo data"
   ]
  },
  {
   "cell_type": "code",
   "execution_count": 7,
   "id": "academic-herald",
   "metadata": {},
   "outputs": [],
   "source": [
    "with open('demoOriginalData.pkl','rb') as f:\n",
    "    MF=dill.load(f)"
   ]
  },
  {
   "cell_type": "code",
   "execution_count": 8,
   "id": "located-difficulty",
   "metadata": {},
   "outputs": [
    {
     "data": {
      "text/plain": [
       "(467, 16, 45)"
      ]
     },
     "execution_count": 8,
     "metadata": {},
     "output_type": "execute_result"
    }
   ],
   "source": [
    "MF.shape"
   ]
  },
  {
   "cell_type": "markdown",
   "id": "optional-deadline",
   "metadata": {},
   "source": [
    "it has the shape of (neuron,stim1*stim2,time), the number of dimensions doesn't matter, i.e. you can either merge adjacent dimensions or not, but the order has to be like this."
   ]
  },
  {
   "cell_type": "code",
   "execution_count": 9,
   "id": "powerful-newport",
   "metadata": {},
   "outputs": [
    {
     "data": {
      "text/plain": [
       "(180, 467)"
      ]
     },
     "execution_count": 9,
     "metadata": {},
     "output_type": "execute_result"
    }
   ],
   "source": [
    "tmpX=get_XnXT(MF,stim_shape=(4,4),stim_keep=0)\n",
    "tmpX.shape"
   ]
  },
  {
   "cell_type": "markdown",
   "id": "polar-representative",
   "metadata": {},
   "source": [
    "here we keep the first stimulus dimension, each profile has a size of 4*45=180"
   ]
  },
  {
   "cell_type": "markdown",
   "id": "bridal-clinton",
   "metadata": {},
   "source": [
    "## storing the data to be fed into SCA"
   ]
  },
  {
   "cell_type": "markdown",
   "id": "inclusive-samuel",
   "metadata": {},
   "source": [
    "make a folder to run SCA"
   ]
  },
  {
   "cell_type": "code",
   "execution_count": 9,
   "id": "informational-governor",
   "metadata": {},
   "outputs": [],
   "source": [
    "\n",
    "folder='demo/'\n",
    "# this should be the same as what you use in the SCA script\n",
    "if not os.path.exists(folder):\n",
    "    os.mkdir(folder)\n"
   ]
  },
  {
   "cell_type": "code",
   "execution_count": 9,
   "id": "amazing-terrorist",
   "metadata": {},
   "outputs": [],
   "source": [
    "with open(folder+'tmpX.pkl','wb') as f:\n",
    "    dill.dump(tmpX,f)"
   ]
  },
  {
   "cell_type": "markdown",
   "id": "certified-albuquerque",
   "metadata": {},
   "source": [
    "## run SCA"
   ]
  },
  {
   "cell_type": "markdown",
   "id": "outstanding-electricity",
   "metadata": {},
   "source": [
    "if it crashes, run it in raw python or ipython console"
   ]
  },
  {
   "cell_type": "code",
   "execution_count": 10,
   "id": "built-setup",
   "metadata": {},
   "outputs": [],
   "source": [
    "import dSCA"
   ]
  },
  {
   "cell_type": "code",
   "execution_count": 15,
   "id": "internal-telling",
   "metadata": {},
   "outputs": [
    {
     "data": {
      "text/plain": [
       "<function dSCA.Learn(X, X2=None, test=False, n_components=3, alpha=0.5, n_iter=600, lossname='lossEla')>"
      ]
     },
     "execution_count": 15,
     "metadata": {},
     "output_type": "execute_result"
    }
   ],
   "source": [
    "dSCA.Learn"
   ]
  },
  {
   "cell_type": "markdown",
   "id": "conceptual-mailman",
   "metadata": {},
   "source": [
    "in this demo we learn the decomposition $$X=UV$$ \n",
    "by minimizing \n",
    "$$Loss=||X-U V^T||_{frobenius} +\\alpha\\sum_i^n||v_i||$$\n",
    "where $$ V=(v_1,v_2,...,v_n)$$ $$U=(u_1,u_2,...,u_n)$$\n",
    "under the constraint $$||u_i||_2^2=1 \\,\\forall u_i \\,in \\,U$$\n"
   ]
  },
  {
   "cell_type": "markdown",
   "id": "ranking-wireless",
   "metadata": {},
   "source": [
    "by default, a small amount (0.01) of L2 regularization is also added to the loss function, this makes the optimization more stable. Alternatively it could be set as a fixed fraction of $\\alpha$"
   ]
  },
  {
   "cell_type": "markdown",
   "id": "latter-railway",
   "metadata": {},
   "source": [
    "in the equation, there are 2 important hyperparameters, n or n_components and alpha, the strength of L1 regularization"
   ]
  },
  {
   "cell_type": "code",
   "execution_count": 22,
   "id": "iraqi-contribution",
   "metadata": {},
   "outputs": [],
   "source": [
    "U,V,losses,errs=dSCA.Learn(tmpX,alpha=0.4)\n",
    "#this uses the default (arbitrary) hyperparameters, \n",
    "#you should choose your hyperparameter for a good reason, or do a grid search for it"
   ]
  },
  {
   "cell_type": "code",
   "execution_count": 12,
   "id": "available-chemical",
   "metadata": {},
   "outputs": [
    {
     "data": {
      "text/plain": [
       "(180, 3)"
      ]
     },
     "execution_count": 12,
     "metadata": {},
     "output_type": "execute_result"
    }
   ],
   "source": [
    "U.shape"
   ]
  },
  {
   "cell_type": "markdown",
   "id": "olympic-comment",
   "metadata": {},
   "source": [
    "this is the shape of our profile matrix (size_of_each_profile, number_of_components)\n",
    "\n",
    "to plot it, take each individual profile vector and reshape it into (stimulus,time)"
   ]
  },
  {
   "cell_type": "code",
   "execution_count": 23,
   "id": "marine-distributor",
   "metadata": {},
   "outputs": [
    {
     "name": "stdout",
     "output_type": "stream",
     "text": [
      "[0.51809945 1.03684093 2.05390537 2.57065977 3.59486604 4.5       ]\n",
      "[0.51809945 1.03684093 2.05390537 2.57065977 3.59486604 4.5       ]\n",
      "[0.51809945 1.03684093 2.05390537 2.57065977 3.59486604 4.5       ]\n",
      "[0.51809945 1.03684093 2.05390537 2.57065977 3.59486604 4.5       ]\n",
      "[0.51809945 1.03684093 2.05390537 2.57065977 3.59486604 4.5       ]\n",
      "[0.51809945 1.03684093 2.05390537 2.57065977 3.59486604 4.5       ]\n"
     ]
    },
    {
     "data": {
      "image/png": "[encoded data removed]",
      "text/plain": [
       "<Figure size 200x480 with 6 Axes>"
      ]
     },
     "metadata": {},
     "output_type": "display_data"
    }
   ],
   "source": [
    "fig,ax=plt.subplots(3,1,figsize=(2,3*1.6),dpi=100)\n",
    "fig.tight_layout()\n",
    "for i in range(3):\n",
    "    print_sig_ax(ax[i],U[:,i])"
   ]
  },
  {
   "cell_type": "markdown",
   "id": "inclusive-evanescence",
   "metadata": {},
   "source": [
    "variable V contains the loadings of the neurons onto each profile\n",
    "\n",
    "&nbsp;&nbsp;&nbsp;(note that variable \"V\" is $V^T$ in the equation)\n",
    "\n",
    "you could show the scatter plot of loadings"
   ]
  },
  {
   "cell_type": "code",
   "execution_count": 20,
   "id": "peaceful-hungary",
   "metadata": {},
   "outputs": [
    {
     "data": {
      "text/plain": [
       "<matplotlib.collections.PathCollection at 0x7f868f928550>"
      ]
     },
     "execution_count": 20,
     "metadata": {},
     "output_type": "execute_result"
    },
    {
     "data": {
      "image/png": "[encoded data removed]",
      "text/plain": [
       "<Figure size 432x288 with 1 Axes>"
      ]
     },
     "metadata": {
      "needs_background": "light"
     },
     "output_type": "display_data"
    }
   ],
   "source": [
    "plt.scatter(V[0,:],V[1,:])"
   ]
  },
  {
   "cell_type": "markdown",
   "id": "multiple-cooling",
   "metadata": {},
   "source": [
    "or calculate the kurtosis of loadings"
   ]
  },
  {
   "cell_type": "code",
   "execution_count": 24,
   "id": "younger-culture",
   "metadata": {},
   "outputs": [
    {
     "data": {
      "text/plain": [
       "Text(2, 80, 'kurtosis=17.14')"
      ]
     },
     "execution_count": 24,
     "metadata": {},
     "output_type": "execute_result"
    },
    {
     "data": {
      "image/png": "[encoded data removed]",
      "text/plain": [
       "<Figure size 432x288 with 1 Axes>"
      ]
     },
     "metadata": {
      "needs_background": "light"
     },
     "output_type": "display_data"
    }
   ],
   "source": [
    "plt.hist(V[0,:])\n",
    "plt.text(2,80,'kurtosis=%.2f'%kurtosis_centered(V[0,:]),fontsize=30)"
   ]
  },
  {
   "cell_type": "markdown",
   "id": "sudden-fancy",
   "metadata": {},
   "source": [
    "note that V is the learned best loading that satisfies sparsity constraint, it does not equal the mere projection of data onto the learned profiles, which will fit the data slightly better but have a lot more unecessary non-zero loadings.\n",
    "\n",
    "nevertheless, if you want to compare the kurtosis of SCA and PCA loadings, projecting the data onto activity SCs is better."
   ]
  },
  {
   "cell_type": "code",
   "execution_count": 28,
   "id": "polish-mills",
   "metadata": {},
   "outputs": [
    {
     "name": "stderr",
     "output_type": "stream",
     "text": [
      "/home/xiaoxiong/anaconda3/lib/python3.7/site-packages/ipykernel_launcher.py:1: FutureWarning: `rcond` parameter will change to the default of machine precision times ``max(M, N)`` where M and N are the input matrix dimensions.\n",
      "To use the future default and silence this warning we advise to pass `rcond=None`, to keep using the old, explicitly pass `rcond=-1`.\n",
      "  \"\"\"Entry point for launching an IPython kernel.\n"
     ]
    },
    {
     "data": {
      "text/plain": [
       "Text(0, 0.5, 'kurtosis=5.78')"
      ]
     },
     "execution_count": 28,
     "metadata": {},
     "output_type": "execute_result"
    },
    {
     "data": {
      "image/png": "[encoded data removed]",
      "text/plain": [
       "<Figure size 432x288 with 1 Axes>"
      ]
     },
     "metadata": {
      "needs_background": "light"
     },
     "output_type": "display_data"
    }
   ],
   "source": [
    "V_proj=np.linalg.lstsq(U,tmpX)[0]\n",
    "plt.scatter(V_proj[0,:],V_proj[1,:])\n",
    "plt.xlabel('kurtosis=%.2f'%kurtosis_centered(V_proj[0,:]))\n",
    "plt.ylabel('kurtosis=%.2f'%kurtosis_centered(V_proj[1,:]))"
   ]
  },
  {
   "cell_type": "markdown",
   "id": "severe-throw",
   "metadata": {},
   "source": [
    "# grid search"
   ]
  },
  {
   "cell_type": "markdown",
   "id": "generic-arrival",
   "metadata": {},
   "source": [
    "You SHOULD MODIFY it according to your data"
   ]
  },
  {
   "cell_type": "code",
   "execution_count": 32,
   "id": "senior-amendment",
   "metadata": {},
   "outputs": [
    {
     "name": "stdout",
     "output_type": "stream",
     "text": [
      "Current Time = 23:30:11\n"
     ]
    }
   ],
   "source": [
    "from  datetime import datetime\n",
    "now = datetime.now()\n",
    "\n",
    "current_time = now.strftime(\"%H:%M:%S\")\n",
    "print(\"Current Time =\", current_time)\n",
    "\n",
    "# this folder is where you have put your data and where you will store the grid search results\n",
    "folder='demo'\n",
    "\n",
    "#these are specific to my analysis, which you can just leave here or change it to your liking\n",
    "\n",
    "#the optimization method, here I use ADMM followed by normal gradient descent. It's just a name for my log file.\n",
    "version='MixOpt'\n",
    "type_restructure='s100s50'\n",
    "stitching='SDT'\n",
    "\n",
    "#here you may want to iterate through all the stimuli and there interaction\n",
    "for Stim in ['ST']:#['DT+SDT']:\n",
    "    \n",
    "    #here I wanted to compare L1 and L2 regularizer, you could just use L1\n",
    "    for regu in ['L1']:#,'L2']:\n",
    "        \n",
    "        #this the data filename\n",
    "        filename=folder+'/splitX.pkl'\n",
    "        #+stitching+'_'\\\n",
    "        \n",
    "        #here my data contains already the training and test set.\n",
    "        #you could just import the raw data and split them into train and test set here\n",
    "        with open(filename,'rb') as f:\n",
    "            tmpX1=dill.load(f)\n",
    "            tmpX2=dill.load(f)\n",
    "    \n",
    "        # the name for log file\n",
    "        name='GS_'+Stim+'_'+stitching+'_'+regu+'_'+type_restructure+'_'+version;\n",
    "        \n",
    "        if regu=='L1':\n",
    "            lossname='lossEla'\n",
    "        else:\n",
    "            lossname='lossL2'\n",
    "        \n",
    "        #number of runs.      if the data is well-structured, you should change this loop into repeat&fold by e.g. using the method in sklearn\n",
    "        n_run=1#4\n",
    "        \n",
    "        max_components=3#11\n",
    "        \n",
    "        #how fine grained you want to explore the different alpha values in [10^alpha_s,10^alpha_e]\n",
    "        n_alphas=3#80\n",
    "        alpha_s=-1\n",
    "        alpha_e=0.5\n",
    "        \n",
    "        #log training loss\n",
    "        lossall=np.zeros((n_run,max_components,n_alphas));\n",
    "        valossall=np.zeros((n_run,max_components,n_alphas));\n",
    "        \n",
    "        #log testing loss\n",
    "        errall=np.zeros((n_run,max_components,n_alphas));\n",
    "\n",
    "        \n",
    "        \n",
    "\n",
    "\n",
    "\n",
    "        os.mkdir(folder+'/ckpt_'+name)\n",
    "        os.mkdir(folder+'/ckpt_'+name+'/weights')\n",
    "        \n",
    "        for n_run_i in range(n_run):\n",
    "\n",
    "            current_time = datetime.now().strftime(\"%Y-%m-%d %H:%M:%S\")\n",
    "            logfile=open(folder+'/logfile_'+name+'.txt','a')\n",
    "            logfile.write('n_run %d/%d   \\t\\t\\t\\t\\t %s\\n'%(n_run_i,n_run,current_time));\n",
    "            \n",
    "            #here I switched train and test set, which may not suit you (you may have more than 2 folds)\n",
    "            tmpX1,tmpX2=tmpX2,tmpX1\n",
    "\n",
    "            for j,n_components in zip(range(0,max_components),range(1,max_components+1)):\n",
    "                current_time = datetime.now().strftime(\"%Y-%m-%d %H:%M:%S\")\n",
    "                logfile.write('\\t component %d/%d\\t\\t\\t\\t\\t %s\\n'%(n_components,max_components,current_time));\n",
    "                for k,al in zip(range(n_alphas),np.logspace(alpha_s,alpha_e,n_alphas)):\n",
    "                    current_time = datetime.now().strftime(\"%Y-%m-%d %H:%M:%S\")\n",
    "                    logfile.write('\\t \\t alpha %d/%d\\t\\t\\t\\t\\t %s\\n'%(k,n_alphas,current_time));\n",
    "                    \n",
    "                    \n",
    "                    U,V,losses,errs=dSCA.Learn(tmpX1,tmpX2,True,n_components,al,lossname=lossname)\n",
    "                        \n",
    "                    #log training and validation loss\n",
    "                    lossall[n_run_i,j,k]=losses[-1]\n",
    "                    errall[n_run_i,j,k]=errs[-1]\n",
    "                    \n",
    "                    \n",
    "                    \n",
    "                    with open(folder+'/ckpt_'+name+'/weights/nn%02dweights%02d%02d.pkl'%(n_run_i,j,k),'wb') as f:\n",
    "                        dill.dump(U,f)\n",
    "                        dill.dump(V,f)\n",
    "                        dill.dump(losses,f)\n",
    "                        dill.dump(errs,f)\n",
    "\n",
    "            logfile.write('\\n')\n",
    "            logfile.close()\n",
    "\n",
    "\n",
    "        with open(folder+'/ckpt_'+name+'/losses_TrVa.pkl','wb') as f:\n",
    "            dill.dump(lossall,f)\n",
    "            dill.dump(errall,f)"
   ]
  },
  {
   "cell_type": "markdown",
   "id": "expired-hotel",
   "metadata": {},
   "source": [
    "# Best parameter"
   ]
  },
  {
   "cell_type": "code",
   "execution_count": 34,
   "id": "third-conducting",
   "metadata": {},
   "outputs": [],
   "source": [
    "folder='demo'\n",
    "n_iter=1200;\n",
    "type_restructure='s100s50'\n",
    "version='MixOpt'\n",
    "\n",
    "for Stim in ['ST']:#,'DT']:\n",
    "    for regu in ['L1']:#,'L2']:\n",
    "        \n",
    "\n",
    "    \n",
    "        \n",
    "        name='GS_'+Stim+'_'+stitching+'_'+regu+'_'+type_restructure+'_'+version;\n",
    "        \n",
    "        #load the logged losses\n",
    "        with open(folder+'/ckpt_'+name+'/losses_TrVa.pkl','rb') as f:\n",
    "            lossall=dill.load(f)\n",
    "            errall=dill.load(f)\n",
    "            \n",
    "        \n",
    "        #tmp is the matrix containing the loss for each parameter combination, averaged across repeats\n",
    "        tmp=errall.mean(0)[:,:]\n",
    "        \n",
    "        #extract the best parameters which you can use to run dSCA\n",
    "        n_components,ind_alpha=np.unravel_index(tmp.argmin(),tmp.shape)\n",
    "        n_components+=1\n",
    "        al=np.logspace(alpha_s,alpha_e,80)[ind_alpha]\n",
    "        \n",
    "        \n",
    "        "
   ]
  },
  {
   "cell_type": "markdown",
   "id": "adolescent-resolution",
   "metadata": {},
   "source": [
    "rerun dSCA using the best parameters"
   ]
  },
  {
   "cell_type": "code",
   "execution_count": 35,
   "id": "international-duplicate",
   "metadata": {},
   "outputs": [],
   "source": [
    "U,V,losses,errs=dSCA.Learn(tmpX,n_components=n_components,alpha=al)\n",
    "#this uses the default (arbitrary) hyperparameters, \n",
    "#you should choose your hyperparameter for a good reason, or do a grid search for it"
   ]
  },
  {
   "cell_type": "code",
   "execution_count": 13,
   "id": "inside-simulation",
   "metadata": {},
   "outputs": [
    {
     "data": {
      "text/plain": [
       "(180, 3)"
      ]
     },
     "execution_count": 13,
     "metadata": {},
     "output_type": "execute_result"
    }
   ],
   "source": [
    "U.shape"
   ]
  },
  {
   "cell_type": "code",
   "execution_count": null,
   "id": "confidential-asbestos",
   "metadata": {},
   "outputs": [],
   "source": [
    "fig,ax=plt.subplots(3,1,figsize=(2,3*1.6),dpi=100)\n",
    "fig.tight_layout()\n",
    "for i in range(3):\n",
    "    print_sig_ax(ax[i],U[:,i])"
   ]
  },
  {
   "cell_type": "code",
   "execution_count": null,
   "id": "persistent-landscape",
   "metadata": {},
   "outputs": [],
   "source": []
  }
 ],
 "metadata": {
  "kernelspec": {
   "display_name": "Python 3 (ipykernel)",
   "language": "python",
   "name": "python3"
  },
  "language_info": {
   "codemirror_mode": {
    "name": "ipython",
    "version": 3
   },
   "file_extension": ".py",
   "mimetype": "text/x-python",
   "name": "python",
   "nbconvert_exporter": "python",
   "pygments_lexer": "ipython3",
   "version": "3.10.6"
  }
 },
 "nbformat": 4,
 "nbformat_minor": 5
}
